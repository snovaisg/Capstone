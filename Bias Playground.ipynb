{
 "cells": [
  {
   "cell_type": "code",
   "execution_count": 1,
   "metadata": {},
   "outputs": [],
   "source": [
    "from IPython.display import display\n",
    "\n",
    "import pandas as pd\n",
    "import numpy as np\n",
    "\n",
    "from aequitas.group import Group\n",
    "from aequitas.bias import Bias\n",
    "from aequitas.fairness import Fairness\n",
    "from aequitas.plotting import Plot\n",
    "\n",
    "from utils import load_dataset, clean_dataset\n",
    "from bias_utils import aequitas_preprocessing, df_to_aequitas, fairness_report\n",
    "\n",
    "import matplotlib.pyplot as plt"
   ]
  },
  {
   "cell_type": "markdown",
   "metadata": {},
   "source": [
    "## Steps to do before using fairness_report"
   ]
  },
  {
   "cell_type": "code",
   "execution_count": 2,
   "metadata": {},
   "outputs": [],
   "source": [
    "#df = load_dataset()\n",
    "#df = clean_dataset(df) # select only searched entries, location preprocessed\n",
    "#df = aequitas_preprocessing(df) # preprocess age to categorical\n",
    "#protected_classes = ['SubjectAge','SubjectRaceCode','SubjectSexCode','Is State Resident?', 'Is Town Resident?']\n",
    "#df_aequitas = df_to_aequitas(df, protected_classes)\n",
    "#report,text = fairness_report(df_aequitas, text_report=True)"
   ]
  },
  {
   "cell_type": "markdown",
   "metadata": {},
   "source": [
    "# Example of aequitas"
   ]
  },
  {
   "cell_type": "code",
   "execution_count": 3,
   "metadata": {},
   "outputs": [],
   "source": [
    "df = load_dataset()\n",
    "df = clean_dataset(df) # select only searched entries, location preprocessed\n",
    "df = aequitas_preprocessing(df) # preprocess age to categorical"
   ]
  },
  {
   "cell_type": "code",
   "execution_count": 4,
   "metadata": {},
   "outputs": [
    {
     "data": {
      "text/html": [
       "<div>\n",
       "<style scoped>\n",
       "    .dataframe tbody tr th:only-of-type {\n",
       "        vertical-align: middle;\n",
       "    }\n",
       "\n",
       "    .dataframe tbody tr th {\n",
       "        vertical-align: top;\n",
       "    }\n",
       "\n",
       "    .dataframe thead th {\n",
       "        text-align: right;\n",
       "    }\n",
       "</style>\n",
       "<table border=\"1\" class=\"dataframe\">\n",
       "  <thead>\n",
       "    <tr style=\"text-align: right;\">\n",
       "      <th></th>\n",
       "      <th>VehicleSearchedIndicator</th>\n",
       "      <th>ContrabandIndicator</th>\n",
       "      <th>Department Name</th>\n",
       "      <th>InterventionDateTime</th>\n",
       "      <th>InterventionLocationName</th>\n",
       "      <th>InterventionReasonCode</th>\n",
       "      <th>ReportingOfficerIdentificationID</th>\n",
       "      <th>Is State Resident?</th>\n",
       "      <th>SearchAuthorizationCode</th>\n",
       "      <th>StatuteReason</th>\n",
       "      <th>SubjectAge</th>\n",
       "      <th>SubjectEthnicityCode</th>\n",
       "      <th>SubjectRaceCode</th>\n",
       "      <th>SubjectSexCode</th>\n",
       "      <th>Is Town Resident?</th>\n",
       "    </tr>\n",
       "  </thead>\n",
       "  <tbody>\n",
       "    <tr>\n",
       "      <th>71</th>\n",
       "      <td>True</td>\n",
       "      <td>False</td>\n",
       "      <td>Bridgeport</td>\n",
       "      <td>2013-10-01 00:46:00</td>\n",
       "      <td>bridgeport</td>\n",
       "      <td>V</td>\n",
       "      <td>1207</td>\n",
       "      <td>Yes</td>\n",
       "      <td>I</td>\n",
       "      <td>Speed Related</td>\n",
       "      <td>21-45</td>\n",
       "      <td>H</td>\n",
       "      <td>White</td>\n",
       "      <td>Male</td>\n",
       "      <td>Yes</td>\n",
       "    </tr>\n",
       "    <tr>\n",
       "      <th>143</th>\n",
       "      <td>True</td>\n",
       "      <td>True</td>\n",
       "      <td>Milford</td>\n",
       "      <td>2013-10-01 01:50:00</td>\n",
       "      <td>milford</td>\n",
       "      <td>E</td>\n",
       "      <td>2325</td>\n",
       "      <td>Yes</td>\n",
       "      <td>I</td>\n",
       "      <td>Defective Lights</td>\n",
       "      <td>21-45</td>\n",
       "      <td>N</td>\n",
       "      <td>White</td>\n",
       "      <td>Male</td>\n",
       "      <td>Yes</td>\n",
       "    </tr>\n",
       "  </tbody>\n",
       "</table>\n",
       "</div>"
      ],
      "text/plain": [
       "     VehicleSearchedIndicator  ContrabandIndicator Department Name  \\\n",
       "71                       True                False      Bridgeport   \n",
       "143                      True                 True         Milford   \n",
       "\n",
       "    InterventionDateTime InterventionLocationName InterventionReasonCode  \\\n",
       "71   2013-10-01 00:46:00               bridgeport                      V   \n",
       "143  2013-10-01 01:50:00                  milford                      E   \n",
       "\n",
       "    ReportingOfficerIdentificationID Is State Resident?  \\\n",
       "71                              1207                Yes   \n",
       "143                             2325                Yes   \n",
       "\n",
       "    SearchAuthorizationCode     StatuteReason SubjectAge SubjectEthnicityCode  \\\n",
       "71                        I     Speed Related      21-45                    H   \n",
       "143                       I  Defective Lights      21-45                    N   \n",
       "\n",
       "    SubjectRaceCode SubjectSexCode Is Town Resident?  \n",
       "71            White           Male               Yes  \n",
       "143           White           Male               Yes  "
      ]
     },
     "metadata": {},
     "output_type": "display_data"
    },
    {
     "data": {
      "text/plain": [
       "(76743, 15)"
      ]
     },
     "metadata": {},
     "output_type": "display_data"
    }
   ],
   "source": [
    "display(df.head(2))\n",
    "display(df.shape)"
   ]
  },
  {
   "cell_type": "code",
   "execution_count": 7,
   "metadata": {},
   "outputs": [],
   "source": [
    "protected_classes = ['SubjectAge','SubjectRaceCode','SubjectSexCode','Is State Resident?', 'Is Town Resident?']\n",
    "df_aequitas = df_to_aequitas(df, model_prediction='VehicleSearchedIndicator',protected_classes=protected_classes)"
   ]
  },
  {
   "cell_type": "code",
   "execution_count": 10,
   "metadata": {},
   "outputs": [
    {
     "name": "stdout",
     "output_type": "stream",
     "text": [
      "model_id, score_thresholds 1 {'rank_abs': [76743]}\n",
      "get_disparity_predefined_group()\n",
      "\n",
      "Fairness Report\n",
      "----------\n",
      "SubjectAge : 21-45\n",
      "It is 1.3 times more likely to fail in people who are 21-45 than people who are <21.\n",
      "\n",
      "SubjectAge : >45\n",
      "It is 1.52 times more likely to fail in people who are >45 than people who are <21.\n",
      "\n",
      "\n"
     ]
    }
   ],
   "source": [
    "report,text = fairness_report(df_aequitas, text_report=True)\n",
    "print(text)"
   ]
  },
  {
   "cell_type": "code",
   "execution_count": 5,
   "metadata": {},
   "outputs": [
    {
     "name": "stdout",
     "output_type": "stream",
     "text": [
      "model_id, score_thresholds 1 {'rank_abs': [76743]}\n"
     ]
    }
   ],
   "source": [
    "g = Group()\n",
    "aqp = Plot()\n",
    "b = Bias()\n",
    "\n",
    "xtab, _ = g.get_crosstabs(df_aequitas)"
   ]
  },
  {
   "cell_type": "code",
   "execution_count": 6,
   "metadata": {},
   "outputs": [
    {
     "data": {
      "text/plain": [
       "Text(0.5, 1.0, 'Error rate (%) (1 - success rate)')"
      ]
     },
     "execution_count": 6,
     "metadata": {},
     "output_type": "execute_result"
    },
    {
     "data": {
      "image/png": "[encoded data removed]",
      "text/plain": [
       "<Figure size 720x360 with 1 Axes>"
      ]
     },
     "metadata": {
      "needs_background": "light"
     },
     "output_type": "display_data"
    }
   ],
   "source": [
    "precision = aqp.plot_group_metric(xtab, 'fdr')\n",
    "plt.title('Error rate (%) (1 - success rate)')"
   ]
  },
  {
   "cell_type": "markdown",
   "metadata": {},
   "source": [
    "### Bias"
   ]
  },
  {
   "cell_type": "code",
   "execution_count": 8,
   "metadata": {},
   "outputs": [
    {
     "name": "stdout",
     "output_type": "stream",
     "text": [
      "get_disparity_predefined_group()\n"
     ]
    }
   ],
   "source": [
    "bdf = b.get_disparity_predefined_groups(xtab, original_df=df_aequitas, \n",
    "                                        ref_groups_dict={'SubjectRaceCode':'White', 'SubjectSexCode':'Male', 'SubjectAge':'<21', 'Is Town Resident?':'No','Is State Resident?':'No'}, \n",
    "                                        alpha=0.05)"
   ]
  },
  {
   "cell_type": "code",
   "execution_count": 27,
   "metadata": {},
   "outputs": [
    {
     "data": {
      "text/plain": [
       "0       <21\n",
       "1       <21\n",
       "2       <21\n",
       "3     White\n",
       "4     White\n",
       "5     White\n",
       "6     White\n",
       "7      Male\n",
       "8      Male\n",
       "9        No\n",
       "10       No\n",
       "11       No\n",
       "12       No\n",
       "Name: fdr_ref_group_value, dtype: object"
      ]
     },
     "execution_count": 27,
     "metadata": {},
     "output_type": "execute_result"
    }
   ],
   "source": [
    "bdf['fdr_ref_group_value']"
   ]
  }
 ],
 "metadata": {
  "kernelspec": {
   "display_name": "Python 3",
   "language": "python",
   "name": "python3"
  },
  "language_info": {
   "codemirror_mode": {
    "name": "ipython",
    "version": 3
   },
   "file_extension": ".py",
   "mimetype": "text/x-python",
   "name": "python",
   "nbconvert_exporter": "python",
   "pygments_lexer": "ipython3",
   "version": "3.7.5"
  }
 },
 "nbformat": 4,
 "nbformat_minor": 4
}

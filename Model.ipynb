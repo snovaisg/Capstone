{
 "cells": [
  {
   "cell_type": "code",
   "execution_count": 1,
   "metadata": {},
   "outputs": [],
   "source": [
    "from IPython.display import display\n",
    "\n",
    "import pandas as pd\n",
    "import numpy as np\n",
    "\n",
    "from sklearn.linear_model import LogisticRegression\n",
    "from sklearn.model_selection import train_test_split\n",
    "from sklearn.metrics import confusion_matrix,accuracy_score,precision_score,recall_score, plot_confusion_matrix\n",
    "\n",
    "import category_encoders as ce\n",
    "\n",
    "from sklearn.pipeline import Pipeline, FeatureUnion\n",
    "from sklearn.base import BaseEstimator, TransformerMixin\n",
    "\n",
    "from utils import load_dataset, clean_dataset\n",
    "from bias_utils import df_to_aequitas,fairness_report,aequitas_preprocessing"
   ]
  },
  {
   "cell_type": "code",
   "execution_count": 2,
   "metadata": {},
   "outputs": [],
   "source": [
    "df = load_dataset()\n",
    "df = clean_dataset(df)"
   ]
  },
  {
   "cell_type": "code",
   "execution_count": 3,
   "metadata": {},
   "outputs": [
    {
     "data": {
      "text/html": [
       "<div>\n",
       "<style scoped>\n",
       "    .dataframe tbody tr th:only-of-type {\n",
       "        vertical-align: middle;\n",
       "    }\n",
       "\n",
       "    .dataframe tbody tr th {\n",
       "        vertical-align: top;\n",
       "    }\n",
       "\n",
       "    .dataframe thead th {\n",
       "        text-align: right;\n",
       "    }\n",
       "</style>\n",
       "<table border=\"1\" class=\"dataframe\">\n",
       "  <thead>\n",
       "    <tr style=\"text-align: right;\">\n",
       "      <th></th>\n",
       "      <th>VehicleSearchedIndicator</th>\n",
       "      <th>ContrabandIndicator</th>\n",
       "      <th>Department Name</th>\n",
       "      <th>InterventionDateTime</th>\n",
       "      <th>InterventionLocationName</th>\n",
       "      <th>InterventionReasonCode</th>\n",
       "      <th>ReportingOfficerIdentificationID</th>\n",
       "      <th>ResidentIndicator</th>\n",
       "      <th>SearchAuthorizationCode</th>\n",
       "      <th>StatuteReason</th>\n",
       "      <th>SubjectAge</th>\n",
       "      <th>SubjectEthnicityCode</th>\n",
       "      <th>SubjectRaceCode</th>\n",
       "      <th>SubjectSexCode</th>\n",
       "      <th>TownResidentIndicator</th>\n",
       "    </tr>\n",
       "  </thead>\n",
       "  <tbody>\n",
       "    <tr>\n",
       "      <th>71</th>\n",
       "      <td>True</td>\n",
       "      <td>False</td>\n",
       "      <td>Bridgeport</td>\n",
       "      <td>2013-10-01 00:46:00</td>\n",
       "      <td>bridgeport</td>\n",
       "      <td>V</td>\n",
       "      <td>1207</td>\n",
       "      <td>True</td>\n",
       "      <td>I</td>\n",
       "      <td>Speed Related</td>\n",
       "      <td>37.0</td>\n",
       "      <td>H</td>\n",
       "      <td>W</td>\n",
       "      <td>M</td>\n",
       "      <td>True</td>\n",
       "    </tr>\n",
       "    <tr>\n",
       "      <th>143</th>\n",
       "      <td>True</td>\n",
       "      <td>True</td>\n",
       "      <td>Milford</td>\n",
       "      <td>2013-10-01 01:50:00</td>\n",
       "      <td>milford</td>\n",
       "      <td>E</td>\n",
       "      <td>2325</td>\n",
       "      <td>True</td>\n",
       "      <td>I</td>\n",
       "      <td>Defective Lights</td>\n",
       "      <td>30.0</td>\n",
       "      <td>N</td>\n",
       "      <td>W</td>\n",
       "      <td>M</td>\n",
       "      <td>True</td>\n",
       "    </tr>\n",
       "    <tr>\n",
       "      <th>184</th>\n",
       "      <td>True</td>\n",
       "      <td>False</td>\n",
       "      <td>Torrington</td>\n",
       "      <td>2013-10-01 03:49:00</td>\n",
       "      <td>torrington</td>\n",
       "      <td>V</td>\n",
       "      <td>DACYR048</td>\n",
       "      <td>True</td>\n",
       "      <td>C</td>\n",
       "      <td>Registration</td>\n",
       "      <td>43.0</td>\n",
       "      <td>N</td>\n",
       "      <td>W</td>\n",
       "      <td>M</td>\n",
       "      <td>True</td>\n",
       "    </tr>\n",
       "  </tbody>\n",
       "</table>\n",
       "</div>"
      ],
      "text/plain": [
       "     VehicleSearchedIndicator  ContrabandIndicator Department Name  \\\n",
       "71                       True                False      Bridgeport   \n",
       "143                      True                 True         Milford   \n",
       "184                      True                False      Torrington   \n",
       "\n",
       "    InterventionDateTime InterventionLocationName InterventionReasonCode  \\\n",
       "71   2013-10-01 00:46:00               bridgeport                      V   \n",
       "143  2013-10-01 01:50:00                  milford                      E   \n",
       "184  2013-10-01 03:49:00               torrington                      V   \n",
       "\n",
       "    ReportingOfficerIdentificationID  ResidentIndicator  \\\n",
       "71                              1207               True   \n",
       "143                             2325               True   \n",
       "184                         DACYR048               True   \n",
       "\n",
       "    SearchAuthorizationCode     StatuteReason  SubjectAge  \\\n",
       "71                        I     Speed Related        37.0   \n",
       "143                       I  Defective Lights        30.0   \n",
       "184                       C      Registration        43.0   \n",
       "\n",
       "    SubjectEthnicityCode SubjectRaceCode SubjectSexCode  TownResidentIndicator  \n",
       "71                     H               W              M                   True  \n",
       "143                    N               W              M                   True  \n",
       "184                    N               W              M                   True  "
      ]
     },
     "metadata": {},
     "output_type": "display_data"
    },
    {
     "data": {
      "text/plain": [
       "(76743, 15)"
      ]
     },
     "metadata": {},
     "output_type": "display_data"
    }
   ],
   "source": [
    "display(df.head(3))\n",
    "display(df.shape)"
   ]
  },
  {
   "cell_type": "markdown",
   "metadata": {},
   "source": [
    "# Pipeline"
   ]
  },
  {
   "cell_type": "markdown",
   "metadata": {},
   "source": [
    "## Classes"
   ]
  },
  {
   "cell_type": "code",
   "execution_count": 4,
   "metadata": {},
   "outputs": [],
   "source": [
    "class Selector(BaseEstimator, TransformerMixin):\n",
    "    \"\"\"\n",
    "    Transformer to select a column from the dataframe to perform additional transformations on\n",
    "    \"\"\" \n",
    "    def __init__(self, key):\n",
    "        self.key = key\n",
    "        \n",
    "    def fit(self, X, y=None):\n",
    "        return self\n",
    "    \n",
    "\n",
    "class CategorySelector(Selector):\n",
    "    \"\"\"\n",
    "    Transformer to select a single column from the data frame to perform additional transformations on\n",
    "    Use on category columns in the data\n",
    "    \"\"\"\n",
    "    def transform(self, X):\n",
    "        return X[self.key]\n",
    "    \n",
    "class TimeSelector(Selector):\n",
    "    \"\"\"\n",
    "    Transformer to select a single column from the data frame to perform additional transformations on\n",
    "    a datetime column\n",
    "    \"\"\"\n",
    "    def transform(self, X):\n",
    "        return X[self.key]\n",
    "\n",
    "class ExtractTimeFeatures(TransformerMixin):\n",
    "    \"\"\"\n",
    "    Transformer to process datetime column.\n",
    "    \"\"\"\n",
    "    def transform(self, X, *_):\n",
    "        _X = pd.DataFrame(data=X.values,index=X.index,columns=['time'])\n",
    "        _X['hour'] = _X.time.dt.hour\n",
    "        return _X[['hour']]\n",
    "    \n",
    "    def fit(self, *_):\n",
    "        return self"
   ]
  },
  {
   "cell_type": "markdown",
   "metadata": {},
   "source": [
    "## Code"
   ]
  },
  {
   "cell_type": "code",
   "execution_count": 5,
   "metadata": {},
   "outputs": [
    {
     "name": "stderr",
     "output_type": "stream",
     "text": [
      "/home/simaonovais/.local/lib/python3.7/site-packages/sklearn/linear_model/_logistic.py:940: ConvergenceWarning: lbfgs failed to converge (status=1):\n",
      "STOP: TOTAL NO. of ITERATIONS REACHED LIMIT.\n",
      "\n",
      "Increase the number of iterations (max_iter) or scale the data as shown in:\n",
      "    https://scikit-learn.org/stable/modules/preprocessing.html\n",
      "Please also refer to the documentation for alternative solver options:\n",
      "    https://scikit-learn.org/stable/modules/linear_model.html#logistic-regression\n",
      "  extra_warning_msg=_LOGISTIC_SOLVER_CONVERGENCE_MSG)\n"
     ]
    }
   ],
   "source": [
    "category = Pipeline([\n",
    "                ('selector', CategorySelector([\"InterventionReasonCode\",\"SearchAuthorizationCode\"])),\n",
    "                ('ohe', ce.one_hot.OneHotEncoder(use_cat_names=True, handle_unknown='indicator'))\n",
    "            ])\n",
    "time = Pipeline([\n",
    "                ('selector', TimeSelector(\"InterventionDateTime\")),\n",
    "                ('featureExtraction', ExtractTimeFeatures())\n",
    "])\n",
    "department = Pipeline([\n",
    "                ('selector', CategorySelector('InterventionLocationName')),\n",
    "                ('ohe', ce.one_hot.OneHotEncoder(use_cat_names=True, handle_unknown='indicator'))\n",
    "])\n",
    "\n",
    "feats = FeatureUnion([('categories', category), \n",
    "                      ('time', time),\n",
    "                      ('department', department)])\n",
    "\n",
    "pipeline = Pipeline([\n",
    "    ('features',feats),\n",
    "    ('classifier', LogisticRegression(random_state = 42)),\n",
    "])\n",
    "\n",
    "\n",
    "train_data, test_data = train_test_split(df, test_size=0.2, random_state=42)\n",
    "\n",
    "\n",
    "pipeline.fit(train_data, train_data.ContrabandIndicator)\n",
    "\n",
    "preds = pipeline.predict(test_data)\n"
   ]
  },
  {
   "cell_type": "code",
   "execution_count": 6,
   "metadata": {},
   "outputs": [],
   "source": [
    "def create_predictions_dataframe(df: pd.DataFrame, preds: np.array)->pd.DataFrame:\n",
    "    \"\"\"\n",
    "    Creates predictions dataframe with original features and a new column \"Predictions\"\n",
    "    that replaces the \"VehicleSearchedIndicator\" column with the model predictions.\n",
    "    \"\"\"\n",
    "    _df = df.copy()\n",
    "    predictions_df = _df.copy()\n",
    "    predictions_df = predictions_df.drop(columns=['VehicleSearchedIndicator'])\n",
    "    columns = list(predictions_df.columns)\n",
    "    predictions_df = predictions_df.assign(Prediction=preds)\n",
    "    predictions_df = predictions_df[['Prediction']+columns]\n",
    "    return predictions_df"
   ]
  },
  {
   "cell_type": "code",
   "execution_count": 7,
   "metadata": {},
   "outputs": [],
   "source": [
    "predictions_df = create_predictions_dataframe(test_data,preds)"
   ]
  },
  {
   "cell_type": "code",
   "execution_count": 8,
   "metadata": {},
   "outputs": [],
   "source": [
    "predictions_df = aequitas_preprocessing(predictions_df)\n",
    "\n",
    "protected_classes = ['SubjectAge','SubjectRaceCode','SubjectSexCode','Is State Resident?', 'Is Town Resident?']\n",
    "aequitas_df = df_to_aequitas(predictions_df,'Prediction',protected_classes)"
   ]
  },
  {
   "cell_type": "code",
   "execution_count": 9,
   "metadata": {},
   "outputs": [
    {
     "name": "stdout",
     "output_type": "stream",
     "text": [
      "model_id, score_thresholds 1 {'rank_abs': [4294]}\n",
      "get_disparity_predefined_group()\n"
     ]
    },
    {
     "data": {
      "text/html": [
       "<div>\n",
       "<style scoped>\n",
       "    .dataframe tbody tr th:only-of-type {\n",
       "        vertical-align: middle;\n",
       "    }\n",
       "\n",
       "    .dataframe tbody tr th {\n",
       "        vertical-align: top;\n",
       "    }\n",
       "\n",
       "    .dataframe thead th {\n",
       "        text-align: right;\n",
       "    }\n",
       "</style>\n",
       "<table border=\"1\" class=\"dataframe\">\n",
       "  <thead>\n",
       "    <tr style=\"text-align: right;\">\n",
       "      <th></th>\n",
       "      <th>attribute_name</th>\n",
       "      <th>attribute_value</th>\n",
       "      <th>fdr_disparity</th>\n",
       "      <th>fdr_ref_group_value</th>\n",
       "      <th>FDR Parity</th>\n",
       "    </tr>\n",
       "  </thead>\n",
       "  <tbody>\n",
       "    <tr>\n",
       "      <th>0</th>\n",
       "      <td>SubjectAge</td>\n",
       "      <td>21-45</td>\n",
       "      <td>1.282453</td>\n",
       "      <td>&lt;21</td>\n",
       "      <td>False</td>\n",
       "    </tr>\n",
       "    <tr>\n",
       "      <th>2</th>\n",
       "      <td>SubjectAge</td>\n",
       "      <td>&gt;45</td>\n",
       "      <td>1.685409</td>\n",
       "      <td>&lt;21</td>\n",
       "      <td>False</td>\n",
       "    </tr>\n",
       "  </tbody>\n",
       "</table>\n",
       "</div>"
      ],
      "text/plain": [
       "  attribute_name attribute_value  fdr_disparity fdr_ref_group_value  \\\n",
       "0     SubjectAge           21-45       1.282453                 <21   \n",
       "2     SubjectAge             >45       1.685409                 <21   \n",
       "\n",
       "   FDR Parity  \n",
       "0       False  \n",
       "2       False  "
      ]
     },
     "execution_count": 9,
     "metadata": {},
     "output_type": "execute_result"
    }
   ],
   "source": [
    "fairness_report(aequitas_df)"
   ]
  },
  {
   "cell_type": "markdown",
   "metadata": {},
   "source": [
    "# Fairness evaluation"
   ]
  },
  {
   "cell_type": "code",
   "execution_count": 31,
   "metadata": {},
   "outputs": [
    {
     "data": {
      "text/plain": [
       "<sklearn.metrics._plot.confusion_matrix.ConfusionMatrixDisplay at 0x7fade548bb10>"
      ]
     },
     "execution_count": 31,
     "metadata": {},
     "output_type": "execute_result"
    },
    {
     "data": {
      "image/png": "[encoded data removed]",
      "text/plain": [
       "<Figure size 432x288 with 2 Axes>"
      ]
     },
     "metadata": {
      "needs_background": "light"
     },
     "output_type": "display_data"
    }
   ],
   "source": [
    "plot_confusion_matrix(estimator = pipeline,\n",
    "                      X = test_data,\n",
    "                      y_true = test_data.ContrabandIndicator)"
   ]
  },
  {
   "cell_type": "code",
   "execution_count": null,
   "metadata": {},
   "outputs": [],
   "source": []
  }
 ],
 "metadata": {
  "kernelspec": {
   "display_name": "Python 3",
   "language": "python",
   "name": "python3"
  },
  "language_info": {
   "codemirror_mode": {
    "name": "ipython",
    "version": 3
   },
   "file_extension": ".py",
   "mimetype": "text/x-python",
   "name": "python",
   "nbconvert_exporter": "python",
   "pygments_lexer": "ipython3",
   "version": "3.7.5"
  }
 },
 "nbformat": 4,
 "nbformat_minor": 4
}
